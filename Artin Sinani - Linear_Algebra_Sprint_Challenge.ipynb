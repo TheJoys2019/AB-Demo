{
  "nbformat": 4,
  "nbformat_minor": 0,
  "metadata": {
    "colab": {
      "name": "Copy of Copy of Linear_Algebra_Sprint_Challenge.ipynb",
      "version": "0.3.2",
      "provenance": [],
      "collapsed_sections": [],
      "include_colab_link": true
    },
    "kernelspec": {
      "name": "python3",
      "display_name": "Python 3"
    }
  },
  "cells": [
    {
      "cell_type": "markdown",
      "metadata": {
        "id": "view-in-github",
        "colab_type": "text"
      },
      "source": [
        "<a href=\"https://colab.research.google.com/github/TheJoys2019/AB-Demo/blob/master/Artin%20Sinani%20-%20Linear_Algebra_Sprint_Challenge.ipynb\" target=\"_parent\"><img src=\"https://colab.research.google.com/assets/colab-badge.svg\" alt=\"Open In Colab\"/></a>"
      ]
    },
    {
      "metadata": {
        "id": "-wQxiT7yC4_v",
        "colab_type": "text"
      },
      "cell_type": "markdown",
      "source": [
        "#Linear Algebra"
      ]
    },
    {
      "metadata": {
        "id": "3IdkwVBGLGuw",
        "colab_type": "code",
        "colab": {}
      },
      "cell_type": "code",
      "source": [
        "import numpy as np\n",
        "from numpy import linalg\n",
        "import matplotlib.pyplot as plt\n",
        "from mpl_toolkits.mplot3d import Axes3D\n",
        "import math"
      ],
      "execution_count": 0,
      "outputs": []
    },
    {
      "metadata": {
        "id": "aiUlaNJkECCL",
        "colab_type": "text"
      },
      "cell_type": "markdown",
      "source": [
        "## 1.1 Graph vector $\\vec{a}$ \n",
        "\n",
        "\\begin{align}\n",
        "\\vec{a} = \\begin{bmatrix} 3 \\\\ 2 \\end{bmatrix}\n",
        "\\end{align}"
      ]
    },
    {
      "metadata": {
        "id": "QpCKt0n5IeiY",
        "colab_type": "code",
        "outputId": "cb27c49b-7bf0-46c3-a3dd-8cb45b8c59f2",
        "colab": {
          "base_uri": "https://localhost:8080/",
          "height": 299
        }
      },
      "cell_type": "code",
      "source": [
        "a = [3,2]\n",
        "\n",
        "plt.title('Follow this vector for riches and fame!')\n",
        "\n",
        "plt.arrow(0,0,a[0],a[1], head_width=0.2, head_length=0.1, color='g')\n",
        "plt.xlim(0,5)\n",
        "plt.ylim(0,5)"
      ],
      "execution_count": 0,
      "outputs": [
        {
          "output_type": "execute_result",
          "data": {
            "text/plain": [
              "(0, 5)"
            ]
          },
          "metadata": {
            "tags": []
          },
          "execution_count": 121
        },
        {
          "output_type": "display_data",
          "data": {
            "image/png": "[encoded data removed]",
            "text/plain": [
              "<Figure size 432x288 with 1 Axes>"
            ]
          },
          "metadata": {
            "tags": []
          }
        }
      ]
    },
    {
      "metadata": {
        "id": "BDLB08NXEiUN",
        "colab_type": "text"
      },
      "cell_type": "markdown",
      "source": [
        "## 1.2 Find $||\\vec{b}||$. What does the norm of a vector represent?\n",
        "\\begin{align}\n",
        "\\vec{b} = \\begin{bmatrix} 17 & -4 & -2 & 1\\end{bmatrix}\n",
        "\\end{align}\n"
      ]
    },
    {
      "metadata": {
        "id": "Fp3mocAKIfGD",
        "colab_type": "code",
        "outputId": "26e4bb9e-bc29-46aa-d2c0-6db5f2ae038c",
        "colab": {
          "base_uri": "https://localhost:8080/",
          "height": 35
        }
      },
      "cell_type": "code",
      "source": [
        "b = [17,-4,-2,1]\n",
        "\n",
        "linalg.norm(b)"
      ],
      "execution_count": 0,
      "outputs": [
        {
          "output_type": "execute_result",
          "data": {
            "text/plain": [
              "17.60681686165901"
            ]
          },
          "metadata": {
            "tags": []
          },
          "execution_count": 10
        }
      ]
    },
    {
      "metadata": {
        "id": "vBbJ0ZyPD6RG",
        "colab_type": "text"
      },
      "cell_type": "markdown",
      "source": [
        "## 1.3 Find $\\vec{c} \\cdot \\vec{d}$\n",
        "\n",
        "\\begin{align}\n",
        "\\vec{c} = \\begin{bmatrix}3 & 7 & -2 & 12\\end{bmatrix}\n",
        "\\qquad\n",
        "\\vec{d} = \\begin{bmatrix}9 & -7 & 4 & 6\\end{bmatrix}\n",
        "\\end{align}"
      ]
    },
    {
      "metadata": {
        "id": "NYb8BalmIfgY",
        "colab_type": "code",
        "outputId": "dc241e39-e8fc-4e3a-d0b6-e56f109f1bf5",
        "colab": {
          "base_uri": "https://localhost:8080/",
          "height": 35
        }
      },
      "cell_type": "code",
      "source": [
        "c = [3,7,-2,12]\n",
        "d = [9,-7,4,6]\n",
        "\n",
        "cD = np.multiply(c,d)\n",
        "cD"
      ],
      "execution_count": 0,
      "outputs": [
        {
          "output_type": "execute_result",
          "data": {
            "text/plain": [
              "array([ 27, -49,  -8,  72])"
            ]
          },
          "metadata": {
            "tags": []
          },
          "execution_count": 11
        }
      ]
    },
    {
      "metadata": {
        "id": "gS85sJHWG7iU",
        "colab_type": "text"
      },
      "cell_type": "markdown",
      "source": [
        "## 1.4 Find $E^{-1}$ and $E^{T}$\n",
        "\n",
        "\\begin{align}\n",
        "E = \n",
        "\\begin{bmatrix}\n",
        "    7 & 4 & 2 \\\\\n",
        "    1 & 3 & -1 \\\\\n",
        "    2 & 6 & -4\n",
        "\\end{bmatrix}\n",
        "\\end{align}"
      ]
    },
    {
      "metadata": {
        "id": "QiISq5egIgSS",
        "colab_type": "code",
        "outputId": "cea3f705-3a3d-4920-b00f-443eb5ed99b3",
        "colab": {
          "base_uri": "https://localhost:8080/",
          "height": 69
        }
      },
      "cell_type": "code",
      "source": [
        "E = np.array([[7,4,2],\n",
        "    [1,3,-1],\n",
        "    [2,6,-4]])\n",
        "\n",
        "Einv = linalg.inv(E)\n",
        "\n",
        "print(Einv)"
      ],
      "execution_count": 0,
      "outputs": [
        {
          "output_type": "stream",
          "text": [
            "[[ 0.17647059 -0.82352941  0.29411765]\n",
            " [-0.05882353  0.94117647 -0.26470588]\n",
            " [ 0.          1.         -0.5       ]]\n"
          ],
          "name": "stdout"
        }
      ]
    },
    {
      "metadata": {
        "id": "of8UBxbeMwIx",
        "colab_type": "code",
        "outputId": "9575608d-dadb-485c-cc05-20eaf17af54c",
        "colab": {
          "base_uri": "https://localhost:8080/",
          "height": 69
        }
      },
      "cell_type": "code",
      "source": [
        "Et = E.transpose()\n",
        "Et"
      ],
      "execution_count": 0,
      "outputs": [
        {
          "output_type": "execute_result",
          "data": {
            "text/plain": [
              "array([[ 7,  1,  2],\n",
              "       [ 4,  3,  6],\n",
              "       [ 2, -1, -4]])"
            ]
          },
          "metadata": {
            "tags": []
          },
          "execution_count": 14
        }
      ]
    },
    {
      "metadata": {
        "id": "TPzrKzEvC5YU",
        "colab_type": "text"
      },
      "cell_type": "markdown",
      "source": [
        "# Intermediate Linear Algebra"
      ]
    },
    {
      "metadata": {
        "id": "ap-us2lBGQyi",
        "colab_type": "text"
      },
      "cell_type": "markdown",
      "source": [
        "## 2.1 Suppose that the number of customers at a ski resort as well as the number of inches of fresh powder (snow)  was recorded for 7 days. \n",
        "\n",
        "### Customers: [820, 760, 1250, 990, 1080, 1450, 1600]\n",
        "\n",
        "### Inches of new snow: [0, 1, 7, 1, 0, 6, 4 ]\n",
        "\n",
        "## Find the mean, variance, and standard deviation for both the number of customers and inches of new snow for the week. You may use library functions, dataframes, .describe(), etc. \n",
        "\n"
      ]
    },
    {
      "metadata": {
        "id": "5yWLUYpKNmt2",
        "colab_type": "code",
        "colab": {}
      },
      "cell_type": "code",
      "source": [
        "import statistics\n",
        "import numpy as np"
      ],
      "execution_count": 0,
      "outputs": []
    },
    {
      "metadata": {
        "id": "xS-JuHl9JiiP",
        "colab_type": "code",
        "outputId": "6efcc6db-fb20-42e6-a504-c8fe938a4d36",
        "colab": {
          "base_uri": "https://localhost:8080/",
          "height": 202
        }
      },
      "cell_type": "code",
      "source": [
        "import pandas as pd\n",
        "\n",
        "customers = [820, 760, 1250, 990, 1080, 1450, 1600]\n",
        "snow = [0, 1, 7, 1, 0, 6, 4]\n",
        "\n",
        "df = pd.DataFrame({'customers': customers, 'snow': snow})\n",
        "\n",
        "df.head()"
      ],
      "execution_count": 0,
      "outputs": [
        {
          "output_type": "execute_result",
          "data": {
            "text/html": [
              "<div>\n",
              "<style scoped>\n",
              "    .dataframe tbody tr th:only-of-type {\n",
              "        vertical-align: middle;\n",
              "    }\n",
              "\n",
              "    .dataframe tbody tr th {\n",
              "        vertical-align: top;\n",
              "    }\n",
              "\n",
              "    .dataframe thead th {\n",
              "        text-align: right;\n",
              "    }\n",
              "</style>\n",
              "<table border=\"1\" class=\"dataframe\">\n",
              "  <thead>\n",
              "    <tr style=\"text-align: right;\">\n",
              "      <th></th>\n",
              "      <th>customers</th>\n",
              "      <th>snow</th>\n",
              "    </tr>\n",
              "  </thead>\n",
              "  <tbody>\n",
              "    <tr>\n",
              "      <th>0</th>\n",
              "      <td>820</td>\n",
              "      <td>0</td>\n",
              "    </tr>\n",
              "    <tr>\n",
              "      <th>1</th>\n",
              "      <td>760</td>\n",
              "      <td>1</td>\n",
              "    </tr>\n",
              "    <tr>\n",
              "      <th>2</th>\n",
              "      <td>1250</td>\n",
              "      <td>7</td>\n",
              "    </tr>\n",
              "    <tr>\n",
              "      <th>3</th>\n",
              "      <td>990</td>\n",
              "      <td>1</td>\n",
              "    </tr>\n",
              "    <tr>\n",
              "      <th>4</th>\n",
              "      <td>1080</td>\n",
              "      <td>0</td>\n",
              "    </tr>\n",
              "  </tbody>\n",
              "</table>\n",
              "</div>"
            ],
            "text/plain": [
              "   customers  snow\n",
              "0        820     0\n",
              "1        760     1\n",
              "2       1250     7\n",
              "3        990     1\n",
              "4       1080     0"
            ]
          },
          "metadata": {
            "tags": []
          },
          "execution_count": 82
        }
      ]
    },
    {
      "metadata": {
        "id": "GPWbPTJcN9t7",
        "colab_type": "code",
        "outputId": "b064b558-a5d4-4ce9-a329-d6ed20fd200f",
        "colab": {
          "base_uri": "https://localhost:8080/",
          "height": 294
        }
      },
      "cell_type": "code",
      "source": [
        "df.describe()"
      ],
      "execution_count": 0,
      "outputs": [
        {
          "output_type": "execute_result",
          "data": {
            "text/html": [
              "<div>\n",
              "<style scoped>\n",
              "    .dataframe tbody tr th:only-of-type {\n",
              "        vertical-align: middle;\n",
              "    }\n",
              "\n",
              "    .dataframe tbody tr th {\n",
              "        vertical-align: top;\n",
              "    }\n",
              "\n",
              "    .dataframe thead th {\n",
              "        text-align: right;\n",
              "    }\n",
              "</style>\n",
              "<table border=\"1\" class=\"dataframe\">\n",
              "  <thead>\n",
              "    <tr style=\"text-align: right;\">\n",
              "      <th></th>\n",
              "      <th>customers</th>\n",
              "      <th>snow</th>\n",
              "    </tr>\n",
              "  </thead>\n",
              "  <tbody>\n",
              "    <tr>\n",
              "      <th>count</th>\n",
              "      <td>7.000000</td>\n",
              "      <td>7.000000</td>\n",
              "    </tr>\n",
              "    <tr>\n",
              "      <th>mean</th>\n",
              "      <td>1135.714286</td>\n",
              "      <td>2.714286</td>\n",
              "    </tr>\n",
              "    <tr>\n",
              "      <th>std</th>\n",
              "      <td>314.264069</td>\n",
              "      <td>2.927700</td>\n",
              "    </tr>\n",
              "    <tr>\n",
              "      <th>min</th>\n",
              "      <td>760.000000</td>\n",
              "      <td>0.000000</td>\n",
              "    </tr>\n",
              "    <tr>\n",
              "      <th>25%</th>\n",
              "      <td>905.000000</td>\n",
              "      <td>0.500000</td>\n",
              "    </tr>\n",
              "    <tr>\n",
              "      <th>50%</th>\n",
              "      <td>1080.000000</td>\n",
              "      <td>1.000000</td>\n",
              "    </tr>\n",
              "    <tr>\n",
              "      <th>75%</th>\n",
              "      <td>1350.000000</td>\n",
              "      <td>5.000000</td>\n",
              "    </tr>\n",
              "    <tr>\n",
              "      <th>max</th>\n",
              "      <td>1600.000000</td>\n",
              "      <td>7.000000</td>\n",
              "    </tr>\n",
              "  </tbody>\n",
              "</table>\n",
              "</div>"
            ],
            "text/plain": [
              "         customers      snow\n",
              "count     7.000000  7.000000\n",
              "mean   1135.714286  2.714286\n",
              "std     314.264069  2.927700\n",
              "min     760.000000  0.000000\n",
              "25%     905.000000  0.500000\n",
              "50%    1080.000000  1.000000\n",
              "75%    1350.000000  5.000000\n",
              "max    1600.000000  7.000000"
            ]
          },
          "metadata": {
            "tags": []
          },
          "execution_count": 83
        }
      ]
    },
    {
      "metadata": {
        "id": "cNxeVa0cg40d",
        "colab_type": "code",
        "outputId": "287f5e53-ee3c-4e24-f427-84dc56d0ed36",
        "colab": {
          "base_uri": "https://localhost:8080/",
          "height": 55
        }
      },
      "cell_type": "code",
      "source": [
        "\"\"\"\n",
        "Data From Above Describe function\n",
        "customers:\n",
        "mean = 1135.714286\n",
        "std = 314.264069\n",
        "\n",
        "snow:\n",
        "mean = 2.714286\n",
        "std = 2.9277\n",
        "\"\"\"\n"
      ],
      "execution_count": 0,
      "outputs": [
        {
          "output_type": "execute_result",
          "data": {
            "text/plain": [
              "'\\nData From Above Describe function\\ncustomers:\\nmean = 1135.714286\\nstd = 314.264069\\n\\nsnow:\\nmean = 2.714286\\nstd = 2.9277\\n'"
            ]
          },
          "metadata": {
            "tags": []
          },
          "execution_count": 84
        }
      ]
    },
    {
      "metadata": {
        "id": "xW5h19IQNsvx",
        "colab_type": "code",
        "outputId": "27b3f3b1-7e4b-4a7f-e9b4-7f1421b9d1a8",
        "colab": {
          "base_uri": "https://localhost:8080/",
          "height": 35
        }
      },
      "cell_type": "code",
      "source": [
        "# Variance of Customers\n",
        "np.var(customers)"
      ],
      "execution_count": 0,
      "outputs": [
        {
          "output_type": "execute_result",
          "data": {
            "text/plain": [
              "84653.06122448981"
            ]
          },
          "metadata": {
            "tags": []
          },
          "execution_count": 85
        }
      ]
    },
    {
      "metadata": {
        "id": "i5w0uj_HN7QM",
        "colab_type": "code",
        "outputId": "10865a43-e505-4ab5-e401-e5f33a4fd0e9",
        "colab": {
          "base_uri": "https://localhost:8080/",
          "height": 35
        }
      },
      "cell_type": "code",
      "source": [
        "# Variance of inchs of snow\n",
        "np.var(snow)"
      ],
      "execution_count": 0,
      "outputs": [
        {
          "output_type": "execute_result",
          "data": {
            "text/plain": [
              "7.346938775510203"
            ]
          },
          "metadata": {
            "tags": []
          },
          "execution_count": 86
        }
      ]
    },
    {
      "metadata": {
        "id": "3ePJtK4VLTLH",
        "colab_type": "text"
      },
      "cell_type": "markdown",
      "source": [
        "## 2.2 Are the variances of the number of customers and inches of snow comparable? \n",
        "## Why or why not? "
      ]
    },
    {
      "metadata": {
        "id": "LvTtgZ-5Ndw_",
        "colab_type": "code",
        "outputId": "1b7ee42a-7464-4146-dfe8-257d97a6cfc4",
        "colab": {
          "base_uri": "https://localhost:8080/",
          "height": 55
        }
      },
      "cell_type": "code",
      "source": [
        "\"\"\"\n",
        "Variance is the measure of how far each value in the data set is from the mean.\n",
        "\n",
        "We can't compare them because they aren't the same units.\n",
        "\n",
        "\"\"\""
      ],
      "execution_count": 0,
      "outputs": [
        {
          "output_type": "execute_result",
          "data": {
            "text/plain": [
              "\"\\nVariance is the measure of how far each value in the data set is from the mean.\\n\\nWe can't compare them because they aren't the same units.\\n\\n\""
            ]
          },
          "metadata": {
            "tags": []
          },
          "execution_count": 87
        }
      ]
    },
    {
      "metadata": {
        "id": "ixhZVGxfGVFh",
        "colab_type": "text"
      },
      "cell_type": "markdown",
      "source": [
        "## 2.3 Find the variance-covariance matrix for the number of customers and inches of snow at the ski resort. "
      ]
    },
    {
      "metadata": {
        "id": "IIZJvOVtTJGd",
        "colab_type": "code",
        "colab": {}
      },
      "cell_type": "code",
      "source": [
        " import pandas as pd"
      ],
      "execution_count": 0,
      "outputs": []
    },
    {
      "metadata": {
        "id": "cv6xeAbogM8l",
        "colab_type": "code",
        "colab": {}
      },
      "cell_type": "code",
      "source": [
        "import numpy as np"
      ],
      "execution_count": 0,
      "outputs": []
    },
    {
      "metadata": {
        "id": "IbglmVaxJjO7",
        "colab_type": "code",
        "outputId": "a63419fd-5153-4002-ae0a-ace5a5959aaa",
        "colab": {
          "base_uri": "https://localhost:8080/",
          "height": 110
        }
      },
      "cell_type": "code",
      "source": [
        "# covariance of df\n",
        "df.cov()"
      ],
      "execution_count": 0,
      "outputs": [
        {
          "output_type": "execute_result",
          "data": {
            "text/html": [
              "<div>\n",
              "<style scoped>\n",
              "    .dataframe tbody tr th:only-of-type {\n",
              "        vertical-align: middle;\n",
              "    }\n",
              "\n",
              "    .dataframe tbody tr th {\n",
              "        vertical-align: top;\n",
              "    }\n",
              "\n",
              "    .dataframe thead th {\n",
              "        text-align: right;\n",
              "    }\n",
              "</style>\n",
              "<table border=\"1\" class=\"dataframe\">\n",
              "  <thead>\n",
              "    <tr style=\"text-align: right;\">\n",
              "      <th></th>\n",
              "      <th>customers</th>\n",
              "      <th>snow</th>\n",
              "    </tr>\n",
              "  </thead>\n",
              "  <tbody>\n",
              "    <tr>\n",
              "      <th>customers</th>\n",
              "      <td>98761.904762</td>\n",
              "      <td>670.238095</td>\n",
              "    </tr>\n",
              "    <tr>\n",
              "      <th>snow</th>\n",
              "      <td>670.238095</td>\n",
              "      <td>8.571429</td>\n",
              "    </tr>\n",
              "  </tbody>\n",
              "</table>\n",
              "</div>"
            ],
            "text/plain": [
              "              customers        snow\n",
              "customers  98761.904762  670.238095\n",
              "snow         670.238095    8.571429"
            ]
          },
          "metadata": {
            "tags": []
          },
          "execution_count": 90
        }
      ]
    },
    {
      "metadata": {
        "id": "mNDLVqN_TllF",
        "colab_type": "code",
        "outputId": "9f0f6bcf-b981-4ae7-e618-a92b4168220a",
        "colab": {
          "base_uri": "https://localhost:8080/",
          "height": 110
        }
      },
      "cell_type": "code",
      "source": [
        "# correlation of df\n",
        "df.corr()"
      ],
      "execution_count": 0,
      "outputs": [
        {
          "output_type": "execute_result",
          "data": {
            "text/html": [
              "<div>\n",
              "<style scoped>\n",
              "    .dataframe tbody tr th:only-of-type {\n",
              "        vertical-align: middle;\n",
              "    }\n",
              "\n",
              "    .dataframe tbody tr th {\n",
              "        vertical-align: top;\n",
              "    }\n",
              "\n",
              "    .dataframe thead th {\n",
              "        text-align: right;\n",
              "    }\n",
              "</style>\n",
              "<table border=\"1\" class=\"dataframe\">\n",
              "  <thead>\n",
              "    <tr style=\"text-align: right;\">\n",
              "      <th></th>\n",
              "      <th>customers</th>\n",
              "      <th>snow</th>\n",
              "    </tr>\n",
              "  </thead>\n",
              "  <tbody>\n",
              "    <tr>\n",
              "      <th>customers</th>\n",
              "      <td>1.000000</td>\n",
              "      <td>0.728463</td>\n",
              "    </tr>\n",
              "    <tr>\n",
              "      <th>snow</th>\n",
              "      <td>0.728463</td>\n",
              "      <td>1.000000</td>\n",
              "    </tr>\n",
              "  </tbody>\n",
              "</table>\n",
              "</div>"
            ],
            "text/plain": [
              "           customers      snow\n",
              "customers   1.000000  0.728463\n",
              "snow        0.728463  1.000000"
            ]
          },
          "metadata": {
            "tags": []
          },
          "execution_count": 91
        }
      ]
    },
    {
      "metadata": {
        "id": "jBpwFDaLgCjH",
        "colab_type": "code",
        "outputId": "8f174383-82dc-4861-d775-54f3a30116e2",
        "colab": {
          "base_uri": "https://localhost:8080/",
          "height": 52
        }
      },
      "cell_type": "code",
      "source": [
        "# Var-Cov Matrix\n",
        "np.cov(df['customers'],df['snow'])"
      ],
      "execution_count": 0,
      "outputs": [
        {
          "output_type": "execute_result",
          "data": {
            "text/plain": [
              "array([[9.87619048e+04, 6.70238095e+02],\n",
              "       [6.70238095e+02, 8.57142857e+00]])"
            ]
          },
          "metadata": {
            "tags": []
          },
          "execution_count": 92
        }
      ]
    },
    {
      "metadata": {
        "id": "TF5bZ__7gWuE",
        "colab_type": "code",
        "outputId": "0b5a04e5-f307-4af1-e796-95219a897d22",
        "colab": {
          "base_uri": "https://localhost:8080/",
          "height": 52
        }
      },
      "cell_type": "code",
      "source": [
        "# Coef Corr\n",
        "\n",
        "np.corrcoef(df['customers'],df['snow'])"
      ],
      "execution_count": 0,
      "outputs": [
        {
          "output_type": "execute_result",
          "data": {
            "text/plain": [
              "array([[1.        , 0.72846346],\n",
              "       [0.72846346, 1.        ]])"
            ]
          },
          "metadata": {
            "tags": []
          },
          "execution_count": 93
        }
      ]
    },
    {
      "metadata": {
        "id": "6Ks3_TbNC5yJ",
        "colab_type": "text"
      },
      "cell_type": "markdown",
      "source": [
        "# PCA"
      ]
    },
    {
      "metadata": {
        "id": "f6qJAPaaOdzD",
        "colab_type": "text"
      },
      "cell_type": "markdown",
      "source": [
        "## 3.1 Standardize the data so that it has a mean of 0 and a standard deviation of 1. (You may use library functions)\n",
        "\n",
        "We have included some code to get you started so that you don't get stuck on something that isn't standardizing the data or PCA.\n",
        "\n",
        "This might be helpful:\n",
        "\n",
        "<https://scikit-learn.org/stable/modules/generated/sklearn.preprocessing.StandardScaler.html>"
      ]
    },
    {
      "metadata": {
        "id": "bogsxfNyJlAw",
        "colab_type": "code",
        "outputId": "d4d8a523-fc0d-4526-bcab-2ee8c3c987c6",
        "colab": {
          "base_uri": "https://localhost:8080/",
          "height": 226
        }
      },
      "cell_type": "code",
      "source": [
        "# Let me get you some data to start you off.\n",
        "import pandas as pd\n",
        "\n",
        "data = {\"Country\": [\"England\",\"Wales\",\"Scotland\",\"North Ireland\"], \n",
        "        \"Cheese\": [105,103,103,66], \n",
        "        \"Carcass_Meat\": [245,227,242,267], \n",
        "        \"Other_Meat\": [685, 803, 750, 586], \n",
        "        \"Fish\": [147, 160, 122, 93], \n",
        "        \"Fats_and_Oils\": [193, 235, 184, 209], \n",
        "        \"Sugars\": [156, 175, 147, 139], \n",
        "        \"Fresh_Potatoes\": [720, 874, 566, 1033], \n",
        "        \"Fresh_Veg\": [253, 265, 171, 143], \n",
        "        \"Other_Veg\": [488, 570, 418, 355], \n",
        "        \"Processed_Potatoes\": [198, 203, 220, 187], \n",
        "        \"Processed_Veg\": [360, 365, 337, 334], \n",
        "        \"Fresh_Fruit\": [1102, 1137, 957, 674], \n",
        "        \"Cereals\": [1472, 1582, 1462, 1494], \n",
        "        \"Beverages\": [57,73,53,47], \n",
        "        \"Soft_Drinks\": [1374, 1256, 1572, 1506], \n",
        "        \"Alcoholic Drinks\": [375, 475, 458, 135], \n",
        "        \"Confectionery\": [54, 64, 62, 41]}\n",
        "\n",
        "df = pd.DataFrame(data)\n",
        "\n",
        "# Look at the data\n",
        "df.head()"
      ],
      "execution_count": 8,
      "outputs": [
        {
          "output_type": "execute_result",
          "data": {
            "text/html": [
              "<div>\n",
              "<style scoped>\n",
              "    .dataframe tbody tr th:only-of-type {\n",
              "        vertical-align: middle;\n",
              "    }\n",
              "\n",
              "    .dataframe tbody tr th {\n",
              "        vertical-align: top;\n",
              "    }\n",
              "\n",
              "    .dataframe thead th {\n",
              "        text-align: right;\n",
              "    }\n",
              "</style>\n",
              "<table border=\"1\" class=\"dataframe\">\n",
              "  <thead>\n",
              "    <tr style=\"text-align: right;\">\n",
              "      <th></th>\n",
              "      <th>Country</th>\n",
              "      <th>Cheese</th>\n",
              "      <th>Carcass_Meat</th>\n",
              "      <th>Other_Meat</th>\n",
              "      <th>Fish</th>\n",
              "      <th>Fats_and_Oils</th>\n",
              "      <th>Sugars</th>\n",
              "      <th>Fresh_Potatoes</th>\n",
              "      <th>Fresh_Veg</th>\n",
              "      <th>Other_Veg</th>\n",
              "      <th>Processed_Potatoes</th>\n",
              "      <th>Processed_Veg</th>\n",
              "      <th>Fresh_Fruit</th>\n",
              "      <th>Cereals</th>\n",
              "      <th>Beverages</th>\n",
              "      <th>Soft_Drinks</th>\n",
              "      <th>Alcoholic Drinks</th>\n",
              "      <th>Confectionery</th>\n",
              "    </tr>\n",
              "  </thead>\n",
              "  <tbody>\n",
              "    <tr>\n",
              "      <th>0</th>\n",
              "      <td>England</td>\n",
              "      <td>105</td>\n",
              "      <td>245</td>\n",
              "      <td>685</td>\n",
              "      <td>147</td>\n",
              "      <td>193</td>\n",
              "      <td>156</td>\n",
              "      <td>720</td>\n",
              "      <td>253</td>\n",
              "      <td>488</td>\n",
              "      <td>198</td>\n",
              "      <td>360</td>\n",
              "      <td>1102</td>\n",
              "      <td>1472</td>\n",
              "      <td>57</td>\n",
              "      <td>1374</td>\n",
              "      <td>375</td>\n",
              "      <td>54</td>\n",
              "    </tr>\n",
              "    <tr>\n",
              "      <th>1</th>\n",
              "      <td>Wales</td>\n",
              "      <td>103</td>\n",
              "      <td>227</td>\n",
              "      <td>803</td>\n",
              "      <td>160</td>\n",
              "      <td>235</td>\n",
              "      <td>175</td>\n",
              "      <td>874</td>\n",
              "      <td>265</td>\n",
              "      <td>570</td>\n",
              "      <td>203</td>\n",
              "      <td>365</td>\n",
              "      <td>1137</td>\n",
              "      <td>1582</td>\n",
              "      <td>73</td>\n",
              "      <td>1256</td>\n",
              "      <td>475</td>\n",
              "      <td>64</td>\n",
              "    </tr>\n",
              "    <tr>\n",
              "      <th>2</th>\n",
              "      <td>Scotland</td>\n",
              "      <td>103</td>\n",
              "      <td>242</td>\n",
              "      <td>750</td>\n",
              "      <td>122</td>\n",
              "      <td>184</td>\n",
              "      <td>147</td>\n",
              "      <td>566</td>\n",
              "      <td>171</td>\n",
              "      <td>418</td>\n",
              "      <td>220</td>\n",
              "      <td>337</td>\n",
              "      <td>957</td>\n",
              "      <td>1462</td>\n",
              "      <td>53</td>\n",
              "      <td>1572</td>\n",
              "      <td>458</td>\n",
              "      <td>62</td>\n",
              "    </tr>\n",
              "    <tr>\n",
              "      <th>3</th>\n",
              "      <td>North Ireland</td>\n",
              "      <td>66</td>\n",
              "      <td>267</td>\n",
              "      <td>586</td>\n",
              "      <td>93</td>\n",
              "      <td>209</td>\n",
              "      <td>139</td>\n",
              "      <td>1033</td>\n",
              "      <td>143</td>\n",
              "      <td>355</td>\n",
              "      <td>187</td>\n",
              "      <td>334</td>\n",
              "      <td>674</td>\n",
              "      <td>1494</td>\n",
              "      <td>47</td>\n",
              "      <td>1506</td>\n",
              "      <td>135</td>\n",
              "      <td>41</td>\n",
              "    </tr>\n",
              "  </tbody>\n",
              "</table>\n",
              "</div>"
            ],
            "text/plain": [
              "         Country  Cheese  Carcass_Meat  Other_Meat  Fish  Fats_and_Oils  \\\n",
              "0        England     105           245         685   147            193   \n",
              "1          Wales     103           227         803   160            235   \n",
              "2       Scotland     103           242         750   122            184   \n",
              "3  North Ireland      66           267         586    93            209   \n",
              "\n",
              "   Sugars  Fresh_Potatoes  Fresh_Veg  Other_Veg  Processed_Potatoes  \\\n",
              "0     156             720        253        488                 198   \n",
              "1     175             874        265        570                 203   \n",
              "2     147             566        171        418                 220   \n",
              "3     139            1033        143        355                 187   \n",
              "\n",
              "   Processed_Veg  Fresh_Fruit  Cereals  Beverages  Soft_Drinks  \\\n",
              "0            360         1102     1472         57         1374   \n",
              "1            365         1137     1582         73         1256   \n",
              "2            337          957     1462         53         1572   \n",
              "3            334          674     1494         47         1506   \n",
              "\n",
              "   Alcoholic Drinks  Confectionery  \n",
              "0               375             54  \n",
              "1               475             64  \n",
              "2               458             62  \n",
              "3               135             41  "
            ]
          },
          "metadata": {
            "tags": []
          },
          "execution_count": 8
        }
      ]
    },
    {
      "metadata": {
        "id": "tfWW2qdWdIj6",
        "colab_type": "code",
        "outputId": "4666cf55-42aa-4e4b-de8f-f0f2d40713d3",
        "colab": {
          "base_uri": "https://localhost:8080/",
          "height": 35
        }
      },
      "cell_type": "code",
      "source": [
        "df.shape"
      ],
      "execution_count": 9,
      "outputs": [
        {
          "output_type": "execute_result",
          "data": {
            "text/plain": [
              "(4, 18)"
            ]
          },
          "metadata": {
            "tags": []
          },
          "execution_count": 9
        }
      ]
    },
    {
      "metadata": {
        "id": "2HY91nOpaTTZ",
        "colab_type": "code",
        "colab": {}
      },
      "cell_type": "code",
      "source": [
        "from sklearn.preprocessing import StandardScaler"
      ],
      "execution_count": 0,
      "outputs": []
    },
    {
      "metadata": {
        "id": "FKv1jE_cWND1",
        "colab_type": "code",
        "outputId": "e5ad3bc5-1275-4fb8-ee56-eae10f67a70d",
        "colab": {
          "base_uri": "https://localhost:8080/",
          "height": 89
        }
      },
      "cell_type": "code",
      "source": [
        "scaler = StandardScaler()\n",
        "\n",
        "scaler.fit(df.drop('Country',axis=1))"
      ],
      "execution_count": 11,
      "outputs": [
        {
          "output_type": "stream",
          "text": [
            "/usr/local/lib/python3.6/dist-packages/sklearn/preprocessing/data.py:645: DataConversionWarning: Data with input dtype int64 were all converted to float64 by StandardScaler.\n",
            "  return self.partial_fit(X, y)\n"
          ],
          "name": "stderr"
        },
        {
          "output_type": "execute_result",
          "data": {
            "text/plain": [
              "StandardScaler(copy=True, with_mean=True, with_std=True)"
            ]
          },
          "metadata": {
            "tags": []
          },
          "execution_count": 11
        }
      ]
    },
    {
      "metadata": {
        "id": "pE4y5b2keF3O",
        "colab_type": "code",
        "colab": {}
      },
      "cell_type": "code",
      "source": [
        "target = df['Country']"
      ],
      "execution_count": 0,
      "outputs": []
    },
    {
      "metadata": {
        "id": "ZoYHffq9YGJC",
        "colab_type": "code",
        "outputId": "9210d6d9-8164-48dd-fd1c-1dc16239fa17",
        "colab": {
          "base_uri": "https://localhost:8080/",
          "height": 72
        }
      },
      "cell_type": "code",
      "source": [
        "scaled = pd.DataFrame(scaler.transform(df.drop('Country', axis=1)))"
      ],
      "execution_count": 13,
      "outputs": [
        {
          "output_type": "stream",
          "text": [
            "/usr/local/lib/python3.6/dist-packages/ipykernel_launcher.py:1: DataConversionWarning: Data with input dtype int64 were all converted to float64 by StandardScaler.\n",
            "  \"\"\"Entry point for launching an IPython kernel.\n"
          ],
          "name": "stderr"
        }
      ]
    },
    {
      "metadata": {
        "id": "0FiWdacJYWiO",
        "colab_type": "code",
        "outputId": "7eb78d24-c4a1-4378-d12f-dec03af06af4",
        "colab": {
          "base_uri": "https://localhost:8080/",
          "height": 191
        }
      },
      "cell_type": "code",
      "source": [
        "scaled.head()"
      ],
      "execution_count": 14,
      "outputs": [
        {
          "output_type": "execute_result",
          "data": {
            "text/html": [
              "<div>\n",
              "<style scoped>\n",
              "    .dataframe tbody tr th:only-of-type {\n",
              "        vertical-align: middle;\n",
              "    }\n",
              "\n",
              "    .dataframe tbody tr th {\n",
              "        vertical-align: top;\n",
              "    }\n",
              "\n",
              "    .dataframe thead th {\n",
              "        text-align: right;\n",
              "    }\n",
              "</style>\n",
              "<table border=\"1\" class=\"dataframe\">\n",
              "  <thead>\n",
              "    <tr style=\"text-align: right;\">\n",
              "      <th></th>\n",
              "      <th>0</th>\n",
              "      <th>1</th>\n",
              "      <th>2</th>\n",
              "      <th>3</th>\n",
              "      <th>4</th>\n",
              "      <th>5</th>\n",
              "      <th>6</th>\n",
              "      <th>7</th>\n",
              "      <th>8</th>\n",
              "      <th>9</th>\n",
              "      <th>10</th>\n",
              "      <th>11</th>\n",
              "      <th>12</th>\n",
              "      <th>13</th>\n",
              "      <th>14</th>\n",
              "      <th>15</th>\n",
              "      <th>16</th>\n",
              "    </tr>\n",
              "  </thead>\n",
              "  <tbody>\n",
              "    <tr>\n",
              "      <th>0</th>\n",
              "      <td>0.658275</td>\n",
              "      <td>-0.017495</td>\n",
              "      <td>-0.259546</td>\n",
              "      <td>0.644585</td>\n",
              "      <td>-0.632429</td>\n",
              "      <td>0.130551</td>\n",
              "      <td>-0.450076</td>\n",
              "      <td>0.863312</td>\n",
              "      <td>0.377736</td>\n",
              "      <td>-0.336265</td>\n",
              "      <td>0.805477</td>\n",
              "      <td>0.737407</td>\n",
              "      <td>-0.644322</td>\n",
              "      <td>-0.051917</td>\n",
              "      <td>-0.435231</td>\n",
              "      <td>0.104998</td>\n",
              "      <td>-0.138303</td>\n",
              "    </tr>\n",
              "    <tr>\n",
              "      <th>1</th>\n",
              "      <td>0.535805</td>\n",
              "      <td>-1.277169</td>\n",
              "      <td>1.198856</td>\n",
              "      <td>1.152440</td>\n",
              "      <td>1.535899</td>\n",
              "      <td>1.547958</td>\n",
              "      <td>0.435696</td>\n",
              "      <td>1.093528</td>\n",
              "      <td>1.401682</td>\n",
              "      <td>0.084066</td>\n",
              "      <td>1.171603</td>\n",
              "      <td>0.929297</td>\n",
              "      <td>1.679463</td>\n",
              "      <td>1.609440</td>\n",
              "      <td>-1.404236</td>\n",
              "      <td>0.841823</td>\n",
              "      <td>0.968122</td>\n",
              "    </tr>\n",
              "    <tr>\n",
              "      <th>2</th>\n",
              "      <td>0.535805</td>\n",
              "      <td>-0.227441</td>\n",
              "      <td>0.543811</td>\n",
              "      <td>-0.332059</td>\n",
              "      <td>-1.097071</td>\n",
              "      <td>-0.540853</td>\n",
              "      <td>-1.335847</td>\n",
              "      <td>-0.709834</td>\n",
              "      <td>-0.496364</td>\n",
              "      <td>1.513193</td>\n",
              "      <td>-0.878702</td>\n",
              "      <td>-0.057567</td>\n",
              "      <td>-0.855575</td>\n",
              "      <td>-0.467257</td>\n",
              "      <td>1.190727</td>\n",
              "      <td>0.716563</td>\n",
              "      <td>0.746837</td>\n",
              "    </tr>\n",
              "    <tr>\n",
              "      <th>3</th>\n",
              "      <td>-1.729885</td>\n",
              "      <td>1.522105</td>\n",
              "      <td>-1.483121</td>\n",
              "      <td>-1.464967</td>\n",
              "      <td>0.193601</td>\n",
              "      <td>-1.137656</td>\n",
              "      <td>1.350227</td>\n",
              "      <td>-1.247006</td>\n",
              "      <td>-1.283054</td>\n",
              "      <td>-1.260994</td>\n",
              "      <td>-1.098378</td>\n",
              "      <td>-1.609137</td>\n",
              "      <td>-0.179565</td>\n",
              "      <td>-1.090266</td>\n",
              "      <td>0.648741</td>\n",
              "      <td>-1.663384</td>\n",
              "      <td>-1.576656</td>\n",
              "    </tr>\n",
              "  </tbody>\n",
              "</table>\n",
              "</div>"
            ],
            "text/plain": [
              "         0         1         2         3         4         5         6   \\\n",
              "0  0.658275 -0.017495 -0.259546  0.644585 -0.632429  0.130551 -0.450076   \n",
              "1  0.535805 -1.277169  1.198856  1.152440  1.535899  1.547958  0.435696   \n",
              "2  0.535805 -0.227441  0.543811 -0.332059 -1.097071 -0.540853 -1.335847   \n",
              "3 -1.729885  1.522105 -1.483121 -1.464967  0.193601 -1.137656  1.350227   \n",
              "\n",
              "         7         8         9         10        11        12        13  \\\n",
              "0  0.863312  0.377736 -0.336265  0.805477  0.737407 -0.644322 -0.051917   \n",
              "1  1.093528  1.401682  0.084066  1.171603  0.929297  1.679463  1.609440   \n",
              "2 -0.709834 -0.496364  1.513193 -0.878702 -0.057567 -0.855575 -0.467257   \n",
              "3 -1.247006 -1.283054 -1.260994 -1.098378 -1.609137 -0.179565 -1.090266   \n",
              "\n",
              "         14        15        16  \n",
              "0 -0.435231  0.104998 -0.138303  \n",
              "1 -1.404236  0.841823  0.968122  \n",
              "2  1.190727  0.716563  0.746837  \n",
              "3  0.648741 -1.663384 -1.576656  "
            ]
          },
          "metadata": {
            "tags": []
          },
          "execution_count": 14
        }
      ]
    },
    {
      "metadata": {
        "id": "JZv9VxekbzZf",
        "colab_type": "code",
        "outputId": "b455227f-d20d-46c4-c646-a79c860dc24d",
        "colab": {
          "base_uri": "https://localhost:8080/",
          "height": 366
        }
      },
      "cell_type": "code",
      "source": [
        "# Checking to see if it was a success and it looks as if it was. Some of the means are \n",
        "# insignificantly small that they're practically zero. \n",
        "scaled.describe()"
      ],
      "execution_count": 15,
      "outputs": [
        {
          "output_type": "execute_result",
          "data": {
            "text/html": [
              "<div>\n",
              "<style scoped>\n",
              "    .dataframe tbody tr th:only-of-type {\n",
              "        vertical-align: middle;\n",
              "    }\n",
              "\n",
              "    .dataframe tbody tr th {\n",
              "        vertical-align: top;\n",
              "    }\n",
              "\n",
              "    .dataframe thead th {\n",
              "        text-align: right;\n",
              "    }\n",
              "</style>\n",
              "<table border=\"1\" class=\"dataframe\">\n",
              "  <thead>\n",
              "    <tr style=\"text-align: right;\">\n",
              "      <th></th>\n",
              "      <th>0</th>\n",
              "      <th>1</th>\n",
              "      <th>2</th>\n",
              "      <th>3</th>\n",
              "      <th>4</th>\n",
              "      <th>5</th>\n",
              "      <th>6</th>\n",
              "      <th>7</th>\n",
              "      <th>8</th>\n",
              "      <th>9</th>\n",
              "      <th>10</th>\n",
              "      <th>11</th>\n",
              "      <th>12</th>\n",
              "      <th>13</th>\n",
              "      <th>14</th>\n",
              "      <th>15</th>\n",
              "      <th>16</th>\n",
              "    </tr>\n",
              "  </thead>\n",
              "  <tbody>\n",
              "    <tr>\n",
              "      <th>count</th>\n",
              "      <td>4.000000</td>\n",
              "      <td>4.000000</td>\n",
              "      <td>4.000000</td>\n",
              "      <td>4.000000</td>\n",
              "      <td>4.000000e+00</td>\n",
              "      <td>4.000000e+00</td>\n",
              "      <td>4.000000</td>\n",
              "      <td>4.000000e+00</td>\n",
              "      <td>4.000000</td>\n",
              "      <td>4.000000</td>\n",
              "      <td>4.000000e+00</td>\n",
              "      <td>4.000000</td>\n",
              "      <td>4.000000e+00</td>\n",
              "      <td>4.000000e+00</td>\n",
              "      <td>4.000000e+00</td>\n",
              "      <td>4.000000</td>\n",
              "      <td>4.000000e+00</td>\n",
              "    </tr>\n",
              "    <tr>\n",
              "      <th>mean</th>\n",
              "      <td>0.000000</td>\n",
              "      <td>0.000000</td>\n",
              "      <td>0.000000</td>\n",
              "      <td>0.000000</td>\n",
              "      <td>6.938894e-18</td>\n",
              "      <td>-5.551115e-17</td>\n",
              "      <td>0.000000</td>\n",
              "      <td>5.551115e-17</td>\n",
              "      <td>0.000000</td>\n",
              "      <td>0.000000</td>\n",
              "      <td>-5.551115e-17</td>\n",
              "      <td>0.000000</td>\n",
              "      <td>6.938894e-18</td>\n",
              "      <td>-5.551115e-17</td>\n",
              "      <td>-2.775558e-17</td>\n",
              "      <td>0.000000</td>\n",
              "      <td>5.551115e-17</td>\n",
              "    </tr>\n",
              "    <tr>\n",
              "      <th>std</th>\n",
              "      <td>1.154701</td>\n",
              "      <td>1.154701</td>\n",
              "      <td>1.154701</td>\n",
              "      <td>1.154701</td>\n",
              "      <td>1.154701e+00</td>\n",
              "      <td>1.154701e+00</td>\n",
              "      <td>1.154701</td>\n",
              "      <td>1.154701e+00</td>\n",
              "      <td>1.154701</td>\n",
              "      <td>1.154701</td>\n",
              "      <td>1.154701e+00</td>\n",
              "      <td>1.154701</td>\n",
              "      <td>1.154701e+00</td>\n",
              "      <td>1.154701e+00</td>\n",
              "      <td>1.154701e+00</td>\n",
              "      <td>1.154701</td>\n",
              "      <td>1.154701e+00</td>\n",
              "    </tr>\n",
              "    <tr>\n",
              "      <th>min</th>\n",
              "      <td>-1.729885</td>\n",
              "      <td>-1.277169</td>\n",
              "      <td>-1.483121</td>\n",
              "      <td>-1.464967</td>\n",
              "      <td>-1.097071e+00</td>\n",
              "      <td>-1.137656e+00</td>\n",
              "      <td>-1.335847</td>\n",
              "      <td>-1.247006e+00</td>\n",
              "      <td>-1.283054</td>\n",
              "      <td>-1.260994</td>\n",
              "      <td>-1.098378e+00</td>\n",
              "      <td>-1.609137</td>\n",
              "      <td>-8.555755e-01</td>\n",
              "      <td>-1.090266e+00</td>\n",
              "      <td>-1.404236e+00</td>\n",
              "      <td>-1.663384</td>\n",
              "      <td>-1.576656e+00</td>\n",
              "    </tr>\n",
              "    <tr>\n",
              "      <th>25%</th>\n",
              "      <td>-0.030617</td>\n",
              "      <td>-0.489873</td>\n",
              "      <td>-0.565440</td>\n",
              "      <td>-0.615286</td>\n",
              "      <td>-7.485897e-01</td>\n",
              "      <td>-6.900536e-01</td>\n",
              "      <td>-0.671519</td>\n",
              "      <td>-8.441271e-01</td>\n",
              "      <td>-0.693036</td>\n",
              "      <td>-0.567447</td>\n",
              "      <td>-9.336213e-01</td>\n",
              "      <td>-0.445460</td>\n",
              "      <td>-6.971356e-01</td>\n",
              "      <td>-6.230090e-01</td>\n",
              "      <td>-6.774824e-01</td>\n",
              "      <td>-0.337098</td>\n",
              "      <td>-4.978915e-01</td>\n",
              "    </tr>\n",
              "    <tr>\n",
              "      <th>50%</th>\n",
              "      <td>0.535805</td>\n",
              "      <td>-0.122468</td>\n",
              "      <td>0.142132</td>\n",
              "      <td>0.156263</td>\n",
              "      <td>-2.194142e-01</td>\n",
              "      <td>-2.051511e-01</td>\n",
              "      <td>-0.007190</td>\n",
              "      <td>7.673883e-02</td>\n",
              "      <td>-0.059314</td>\n",
              "      <td>-0.126099</td>\n",
              "      <td>-3.661260e-02</td>\n",
              "      <td>0.339920</td>\n",
              "      <td>-4.119437e-01</td>\n",
              "      <td>-2.595871e-01</td>\n",
              "      <td>1.067548e-01</td>\n",
              "      <td>0.410780</td>\n",
              "      <td>3.042670e-01</td>\n",
              "    </tr>\n",
              "    <tr>\n",
              "      <th>75%</th>\n",
              "      <td>0.566422</td>\n",
              "      <td>0.367405</td>\n",
              "      <td>0.707572</td>\n",
              "      <td>0.771549</td>\n",
              "      <td>5.291754e-01</td>\n",
              "      <td>4.849025e-01</td>\n",
              "      <td>0.664329</td>\n",
              "      <td>9.208660e-01</td>\n",
              "      <td>0.633722</td>\n",
              "      <td>0.441348</td>\n",
              "      <td>8.970087e-01</td>\n",
              "      <td>0.785380</td>\n",
              "      <td>2.851918e-01</td>\n",
              "      <td>3.634219e-01</td>\n",
              "      <td>7.842372e-01</td>\n",
              "      <td>0.747878</td>\n",
              "      <td>8.021585e-01</td>\n",
              "    </tr>\n",
              "    <tr>\n",
              "      <th>max</th>\n",
              "      <td>0.658275</td>\n",
              "      <td>1.522105</td>\n",
              "      <td>1.198856</td>\n",
              "      <td>1.152440</td>\n",
              "      <td>1.535899e+00</td>\n",
              "      <td>1.547958e+00</td>\n",
              "      <td>1.350227</td>\n",
              "      <td>1.093528e+00</td>\n",
              "      <td>1.401682</td>\n",
              "      <td>1.513193</td>\n",
              "      <td>1.171603e+00</td>\n",
              "      <td>0.929297</td>\n",
              "      <td>1.679463e+00</td>\n",
              "      <td>1.609440e+00</td>\n",
              "      <td>1.190727e+00</td>\n",
              "      <td>0.841823</td>\n",
              "      <td>9.681224e-01</td>\n",
              "    </tr>\n",
              "  </tbody>\n",
              "</table>\n",
              "</div>"
            ],
            "text/plain": [
              "             0         1         2         3             4             5   \\\n",
              "count  4.000000  4.000000  4.000000  4.000000  4.000000e+00  4.000000e+00   \n",
              "mean   0.000000  0.000000  0.000000  0.000000  6.938894e-18 -5.551115e-17   \n",
              "std    1.154701  1.154701  1.154701  1.154701  1.154701e+00  1.154701e+00   \n",
              "min   -1.729885 -1.277169 -1.483121 -1.464967 -1.097071e+00 -1.137656e+00   \n",
              "25%   -0.030617 -0.489873 -0.565440 -0.615286 -7.485897e-01 -6.900536e-01   \n",
              "50%    0.535805 -0.122468  0.142132  0.156263 -2.194142e-01 -2.051511e-01   \n",
              "75%    0.566422  0.367405  0.707572  0.771549  5.291754e-01  4.849025e-01   \n",
              "max    0.658275  1.522105  1.198856  1.152440  1.535899e+00  1.547958e+00   \n",
              "\n",
              "             6             7         8         9             10        11  \\\n",
              "count  4.000000  4.000000e+00  4.000000  4.000000  4.000000e+00  4.000000   \n",
              "mean   0.000000  5.551115e-17  0.000000  0.000000 -5.551115e-17  0.000000   \n",
              "std    1.154701  1.154701e+00  1.154701  1.154701  1.154701e+00  1.154701   \n",
              "min   -1.335847 -1.247006e+00 -1.283054 -1.260994 -1.098378e+00 -1.609137   \n",
              "25%   -0.671519 -8.441271e-01 -0.693036 -0.567447 -9.336213e-01 -0.445460   \n",
              "50%   -0.007190  7.673883e-02 -0.059314 -0.126099 -3.661260e-02  0.339920   \n",
              "75%    0.664329  9.208660e-01  0.633722  0.441348  8.970087e-01  0.785380   \n",
              "max    1.350227  1.093528e+00  1.401682  1.513193  1.171603e+00  0.929297   \n",
              "\n",
              "                 12            13            14        15            16  \n",
              "count  4.000000e+00  4.000000e+00  4.000000e+00  4.000000  4.000000e+00  \n",
              "mean   6.938894e-18 -5.551115e-17 -2.775558e-17  0.000000  5.551115e-17  \n",
              "std    1.154701e+00  1.154701e+00  1.154701e+00  1.154701  1.154701e+00  \n",
              "min   -8.555755e-01 -1.090266e+00 -1.404236e+00 -1.663384 -1.576656e+00  \n",
              "25%   -6.971356e-01 -6.230090e-01 -6.774824e-01 -0.337098 -4.978915e-01  \n",
              "50%   -4.119437e-01 -2.595871e-01  1.067548e-01  0.410780  3.042670e-01  \n",
              "75%    2.851918e-01  3.634219e-01  7.842372e-01  0.747878  8.021585e-01  \n",
              "max    1.679463e+00  1.609440e+00  1.190727e+00  0.841823  9.681224e-01  "
            ]
          },
          "metadata": {
            "tags": []
          },
          "execution_count": 15
        }
      ]
    },
    {
      "metadata": {
        "id": "g5DymzETb5v9",
        "colab_type": "code",
        "colab": {}
      },
      "cell_type": "code",
      "source": [
        ""
      ],
      "execution_count": 0,
      "outputs": []
    },
    {
      "metadata": {
        "id": "5U50KZkdJb_s",
        "colab_type": "text"
      },
      "cell_type": "markdown",
      "source": [
        "## 3.2 Perform PCA on the data and graph Principal Component 1 against Principal Component 2. (You may use library functions)\n",
        "\n",
        "This might be helpful:\n",
        "\n",
        "<https://scikit-learn.org/stable/modules/generated/sklearn.decomposition.PCA.html>"
      ]
    },
    {
      "metadata": {
        "id": "RqjwVokgP1fL",
        "colab_type": "code",
        "outputId": "3af4d587-3319-47d8-b90a-2f392fc23291",
        "colab": {
          "base_uri": "https://localhost:8080/",
          "height": 52
        }
      },
      "cell_type": "code",
      "source": [
        "from sklearn.decomposition import PCA\n",
        "pca = PCA(n_components=2)\n",
        "\n",
        "pca.fit(scaled)"
      ],
      "execution_count": 16,
      "outputs": [
        {
          "output_type": "execute_result",
          "data": {
            "text/plain": [
              "PCA(copy=True, iterated_power='auto', n_components=2, random_state=None,\n",
              "  svd_solver='auto', tol=0.0, whiten=False)"
            ]
          },
          "metadata": {
            "tags": []
          },
          "execution_count": 16
        }
      ]
    },
    {
      "metadata": {
        "id": "zeop8Vw7cySA",
        "colab_type": "code",
        "outputId": "a62099b4-2fcf-48fb-baed-cd7196b6174f",
        "colab": {
          "base_uri": "https://localhost:8080/",
          "height": 139
        }
      },
      "cell_type": "code",
      "source": [
        "print('Eigenvectors: \\n', pca.components_)"
      ],
      "execution_count": 17,
      "outputs": [
        {
          "output_type": "stream",
          "text": [
            "Eigenvectors: \n",
            " [[-0.24572131  0.28562914 -0.26481055 -0.28611787 -0.12719487 -0.2811012\n",
            "   0.09775901 -0.26544997 -0.28708628 -0.12073819 -0.25767815 -0.27890521\n",
            "  -0.17843996 -0.27747513  0.22771961 -0.25509484 -0.25275834]\n",
            " [ 0.24708041 -0.07716993  0.13610704 -0.01100602 -0.40054501 -0.13684092\n",
            "  -0.45468785 -0.0964863  -0.09282322  0.41036129 -0.1539603   0.08174644\n",
            "  -0.32902948 -0.13773847  0.29323981  0.23231808  0.21105701]]\n"
          ],
          "name": "stdout"
        }
      ]
    },
    {
      "metadata": {
        "id": "Sw8h7DJuc4JT",
        "colab_type": "code",
        "outputId": "e0801ebd-5028-4374-80bc-fce6af5856ab",
        "colab": {
          "base_uri": "https://localhost:8080/",
          "height": 52
        }
      },
      "cell_type": "code",
      "source": [
        "print('Eigenvalues: \\n', pca.explained_variance_)"
      ],
      "execution_count": 18,
      "outputs": [
        {
          "output_type": "stream",
          "text": [
            "Eigenvalues: \n",
            " [15.48765084  5.63749203]\n"
          ],
          "name": "stdout"
        }
      ]
    },
    {
      "metadata": {
        "id": "Lum-MCZTdNZU",
        "colab_type": "code",
        "outputId": "c9dc8724-2929-4d47-ef0e-c52edce2cfdc",
        "colab": {
          "base_uri": "https://localhost:8080/",
          "height": 35
        }
      },
      "cell_type": "code",
      "source": [
        "scaled.shape"
      ],
      "execution_count": 19,
      "outputs": [
        {
          "output_type": "execute_result",
          "data": {
            "text/plain": [
              "(4, 17)"
            ]
          },
          "metadata": {
            "tags": []
          },
          "execution_count": 19
        }
      ]
    },
    {
      "metadata": {
        "id": "RP64wlHWdPKb",
        "colab_type": "code",
        "outputId": "3237dc3a-a242-429d-e690-e0a9e7ab640c",
        "colab": {
          "base_uri": "https://localhost:8080/",
          "height": 104
        }
      },
      "cell_type": "code",
      "source": [
        "bScale = pca.transform(scaled)\n",
        "print('Projected Data: \\n', bScale[:17])"
      ],
      "execution_count": 20,
      "outputs": [
        {
          "output_type": "stream",
          "text": [
            "Projected Data: \n",
            " [[-0.95448984  0.32831832]\n",
            " [-4.52095094 -1.73537967]\n",
            " [ 0.48797835  3.23367195]\n",
            " [ 4.98746242 -1.8266106 ]]\n"
          ],
          "name": "stdout"
        }
      ]
    },
    {
      "metadata": {
        "id": "JJxV416tds9E",
        "colab_type": "code",
        "outputId": "383a6428-9cb5-44fe-c4ee-21ed423956dd",
        "colab": {
          "base_uri": "https://localhost:8080/",
          "height": 171
        }
      },
      "cell_type": "code",
      "source": [
        "components = pd.DataFrame(bScale)\n",
        "\n",
        "final = pd.concat([components, target], axis=1)\n",
        "final = final.rename(columns={\n",
        "    0: 'Principal Component 1',\n",
        "    1: 'Principal Component 2'\n",
        "})\n",
        "\n",
        "final.head()"
      ],
      "execution_count": 21,
      "outputs": [
        {
          "output_type": "execute_result",
          "data": {
            "text/html": [
              "<div>\n",
              "<style scoped>\n",
              "    .dataframe tbody tr th:only-of-type {\n",
              "        vertical-align: middle;\n",
              "    }\n",
              "\n",
              "    .dataframe tbody tr th {\n",
              "        vertical-align: top;\n",
              "    }\n",
              "\n",
              "    .dataframe thead th {\n",
              "        text-align: right;\n",
              "    }\n",
              "</style>\n",
              "<table border=\"1\" class=\"dataframe\">\n",
              "  <thead>\n",
              "    <tr style=\"text-align: right;\">\n",
              "      <th></th>\n",
              "      <th>Principal Component 1</th>\n",
              "      <th>Principal Component 2</th>\n",
              "      <th>Country</th>\n",
              "    </tr>\n",
              "  </thead>\n",
              "  <tbody>\n",
              "    <tr>\n",
              "      <th>0</th>\n",
              "      <td>-0.954490</td>\n",
              "      <td>0.328318</td>\n",
              "      <td>England</td>\n",
              "    </tr>\n",
              "    <tr>\n",
              "      <th>1</th>\n",
              "      <td>-4.520951</td>\n",
              "      <td>-1.735380</td>\n",
              "      <td>Wales</td>\n",
              "    </tr>\n",
              "    <tr>\n",
              "      <th>2</th>\n",
              "      <td>0.487978</td>\n",
              "      <td>3.233672</td>\n",
              "      <td>Scotland</td>\n",
              "    </tr>\n",
              "    <tr>\n",
              "      <th>3</th>\n",
              "      <td>4.987462</td>\n",
              "      <td>-1.826611</td>\n",
              "      <td>North Ireland</td>\n",
              "    </tr>\n",
              "  </tbody>\n",
              "</table>\n",
              "</div>"
            ],
            "text/plain": [
              "   Principal Component 1  Principal Component 2        Country\n",
              "0              -0.954490               0.328318        England\n",
              "1              -4.520951              -1.735380          Wales\n",
              "2               0.487978               3.233672       Scotland\n",
              "3               4.987462              -1.826611  North Ireland"
            ]
          },
          "metadata": {
            "tags": []
          },
          "execution_count": 21
        }
      ]
    },
    {
      "metadata": {
        "id": "4Sq1uJsAtBly",
        "colab_type": "code",
        "colab": {
          "base_uri": "https://localhost:8080/",
          "height": 283
        },
        "outputId": "e909090f-be78-438e-bf30-8b7e4b709c8d"
      },
      "cell_type": "code",
      "source": [
        "import matplotlib.pyplot as plt\n",
        "plt.scatter(final['Principal Component 1'],final['Principal Component 2'])\n",
        "\n",
        "plt.xlabel('Principal Component 1')\n",
        "plt.ylabel('Principal Component 2')\n",
        "\n",
        "plt.show()"
      ],
      "execution_count": 23,
      "outputs": [
        {
          "output_type": "display_data",
          "data": {
            "image/png": "[encoded data removed]",
            "text/plain": [
              "<Figure size 432x288 with 1 Axes>"
            ]
          },
          "metadata": {
            "tags": []
          }
        }
      ]
    },
    {
      "metadata": {
        "id": "z-RzYKR0C6Wg",
        "colab_type": "text"
      },
      "cell_type": "markdown",
      "source": [
        "# Clustering"
      ]
    },
    {
      "metadata": {
        "id": "62efk4plJe54",
        "colab_type": "text"
      },
      "cell_type": "markdown",
      "source": [
        "\n",
        "We have included some code to get you started so that you don't get stuck on something that isn't standardizing clustering.\n",
        "\n",
        "Prioritize calculating the clusters over graphing them. \n",
        "\n",
        "Scikit-Learn K-Means Documentation:\n",
        "\n",
        "<https://scikit-learn.org/stable/modules/generated/sklearn.cluster.KMeans.html>"
      ]
    },
    {
      "metadata": {
        "id": "miK5Aeg-JlzJ",
        "colab_type": "code",
        "outputId": "6de2b7c9-11d8-4453-e2c8-47c4b6d8593c",
        "colab": {
          "base_uri": "https://localhost:8080/",
          "height": 202
        }
      },
      "cell_type": "code",
      "source": [
        "import numpy as np\n",
        "import pandas as pd\n",
        "import matplotlib.pyplot as plt\n",
        "from numpy import linalg\n",
        "import math\n",
        "from sklearn.preprocessing import StandardScaler\n",
        "from sklearn.decomposition import PCA\n",
        "from sklearn.cluster import KMeans\n",
        "points = pd.read_csv('https://raw.githubusercontent.com/ryanleeallred/datasets/master/points.csv')\n",
        "points.head()"
      ],
      "execution_count": 27,
      "outputs": [
        {
          "output_type": "execute_result",
          "data": {
            "text/html": [
              "<div>\n",
              "<style scoped>\n",
              "    .dataframe tbody tr th:only-of-type {\n",
              "        vertical-align: middle;\n",
              "    }\n",
              "\n",
              "    .dataframe tbody tr th {\n",
              "        vertical-align: top;\n",
              "    }\n",
              "\n",
              "    .dataframe thead th {\n",
              "        text-align: right;\n",
              "    }\n",
              "</style>\n",
              "<table border=\"1\" class=\"dataframe\">\n",
              "  <thead>\n",
              "    <tr style=\"text-align: right;\">\n",
              "      <th></th>\n",
              "      <th>x</th>\n",
              "      <th>y</th>\n",
              "    </tr>\n",
              "  </thead>\n",
              "  <tbody>\n",
              "    <tr>\n",
              "      <th>0</th>\n",
              "      <td>-7.846803</td>\n",
              "      <td>-3.421277</td>\n",
              "    </tr>\n",
              "    <tr>\n",
              "      <th>1</th>\n",
              "      <td>-3.554323</td>\n",
              "      <td>-6.884729</td>\n",
              "    </tr>\n",
              "    <tr>\n",
              "      <th>2</th>\n",
              "      <td>-0.192822</td>\n",
              "      <td>-9.671030</td>\n",
              "    </tr>\n",
              "    <tr>\n",
              "      <th>3</th>\n",
              "      <td>-6.401456</td>\n",
              "      <td>-5.223972</td>\n",
              "    </tr>\n",
              "    <tr>\n",
              "      <th>4</th>\n",
              "      <td>-0.804026</td>\n",
              "      <td>-9.704457</td>\n",
              "    </tr>\n",
              "  </tbody>\n",
              "</table>\n",
              "</div>"
            ],
            "text/plain": [
              "          x         y\n",
              "0 -7.846803 -3.421277\n",
              "1 -3.554323 -6.884729\n",
              "2 -0.192822 -9.671030\n",
              "3 -6.401456 -5.223972\n",
              "4 -0.804026 -9.704457"
            ]
          },
          "metadata": {
            "tags": []
          },
          "execution_count": 27
        }
      ]
    },
    {
      "metadata": {
        "id": "qX0zKKznTzcI",
        "colab_type": "code",
        "outputId": "69b4d94d-9f27-4d14-e1a5-e05a2ccfa7ff",
        "colab": {
          "base_uri": "https://localhost:8080/",
          "height": 35
        }
      },
      "cell_type": "code",
      "source": [
        "points.shape"
      ],
      "execution_count": 28,
      "outputs": [
        {
          "output_type": "execute_result",
          "data": {
            "text/plain": [
              "(200, 2)"
            ]
          },
          "metadata": {
            "tags": []
          },
          "execution_count": 28
        }
      ]
    },
    {
      "metadata": {
        "id": "0Q8RXzamXLbQ",
        "colab_type": "code",
        "outputId": "476090b6-ca2b-45a7-c85f-821308a2c5b6",
        "colab": {
          "base_uri": "https://localhost:8080/",
          "height": 294
        }
      },
      "cell_type": "code",
      "source": [
        "points.describe()"
      ],
      "execution_count": 29,
      "outputs": [
        {
          "output_type": "execute_result",
          "data": {
            "text/html": [
              "<div>\n",
              "<style scoped>\n",
              "    .dataframe tbody tr th:only-of-type {\n",
              "        vertical-align: middle;\n",
              "    }\n",
              "\n",
              "    .dataframe tbody tr th {\n",
              "        vertical-align: top;\n",
              "    }\n",
              "\n",
              "    .dataframe thead th {\n",
              "        text-align: right;\n",
              "    }\n",
              "</style>\n",
              "<table border=\"1\" class=\"dataframe\">\n",
              "  <thead>\n",
              "    <tr style=\"text-align: right;\">\n",
              "      <th></th>\n",
              "      <th>x</th>\n",
              "      <th>y</th>\n",
              "    </tr>\n",
              "  </thead>\n",
              "  <tbody>\n",
              "    <tr>\n",
              "      <th>count</th>\n",
              "      <td>200.000000</td>\n",
              "      <td>200.000000</td>\n",
              "    </tr>\n",
              "    <tr>\n",
              "      <th>mean</th>\n",
              "      <td>-2.323298</td>\n",
              "      <td>-3.422869</td>\n",
              "    </tr>\n",
              "    <tr>\n",
              "      <th>std</th>\n",
              "      <td>4.556513</td>\n",
              "      <td>5.580888</td>\n",
              "    </tr>\n",
              "    <tr>\n",
              "      <th>min</th>\n",
              "      <td>-10.118473</td>\n",
              "      <td>-11.095795</td>\n",
              "    </tr>\n",
              "    <tr>\n",
              "      <th>25%</th>\n",
              "      <td>-4.619520</td>\n",
              "      <td>-8.246848</td>\n",
              "    </tr>\n",
              "    <tr>\n",
              "      <th>50%</th>\n",
              "      <td>-3.373794</td>\n",
              "      <td>-5.307697</td>\n",
              "    </tr>\n",
              "    <tr>\n",
              "      <th>75%</th>\n",
              "      <td>-0.427175</td>\n",
              "      <td>3.360028</td>\n",
              "    </tr>\n",
              "    <tr>\n",
              "      <th>max</th>\n",
              "      <td>7.807885</td>\n",
              "      <td>5.883054</td>\n",
              "    </tr>\n",
              "  </tbody>\n",
              "</table>\n",
              "</div>"
            ],
            "text/plain": [
              "                x           y\n",
              "count  200.000000  200.000000\n",
              "mean    -2.323298   -3.422869\n",
              "std      4.556513    5.580888\n",
              "min    -10.118473  -11.095795\n",
              "25%     -4.619520   -8.246848\n",
              "50%     -3.373794   -5.307697\n",
              "75%     -0.427175    3.360028\n",
              "max      7.807885    5.883054"
            ]
          },
          "metadata": {
            "tags": []
          },
          "execution_count": 29
        }
      ]
    },
    {
      "metadata": {
        "id": "Pb_7zdpkgyIp",
        "colab_type": "code",
        "outputId": "6590c934-b846-4e00-e60b-d5bedf743bcf",
        "colab": {
          "base_uri": "https://localhost:8080/",
          "height": 295
        }
      },
      "cell_type": "code",
      "source": [
        "#Let's graph and see which is optimal\n",
        "\n",
        "sse = []\n",
        "\n",
        "K = range(1,15)\n",
        "\n",
        "for k in K:\n",
        "    km = KMeans(n_clusters=k)\n",
        "    km = km.fit(points)\n",
        "    sse.append(km.inertia_)\n",
        "\n",
        "plt.plot(K, sse, 'bx-')\n",
        "plt.xlabel('Centroids')\n",
        "plt.ylabel('Sum Of Squared_Errors')\n",
        "plt.title('Elbow Test: which k is best')\n",
        "plt.show()\n"
      ],
      "execution_count": 30,
      "outputs": [
        {
          "output_type": "display_data",
          "data": {
            "image/png": "[encoded data removed]",
            "text/plain": [
              "<Figure size 432x288 with 1 Axes>"
            ]
          },
          "metadata": {
            "tags": []
          }
        }
      ]
    },
    {
      "metadata": {
        "id": "Kyg_2DQ5lHr5",
        "colab_type": "code",
        "colab": {}
      },
      "cell_type": "code",
      "source": [
        "# Based on the graph, four is the best fit or optimal fit for k"
      ],
      "execution_count": 0,
      "outputs": []
    },
    {
      "metadata": {
        "id": "1RKG-yTUrhDa",
        "colab_type": "code",
        "colab": {
          "base_uri": "https://localhost:8080/",
          "height": 509
        },
        "outputId": "4726a01a-dd99-4f7e-9b4c-7a1cc432aa34"
      },
      "cell_type": "code",
      "source": [
        "km = KMeans(n_clusters=4)\n",
        "km = km.fit(points)\n",
        "result = km.transform(points)\n",
        "\n",
        "labels = pd.DataFrame(km.labels_)\n",
        "labels = labels.rename(columns={0:'clusters'})\n",
        "\n",
        "final = pd.concat([points, labels], axis=1)\n",
        "final.sample(15)"
      ],
      "execution_count": 33,
      "outputs": [
        {
          "output_type": "execute_result",
          "data": {
            "text/html": [
              "<div>\n",
              "<style scoped>\n",
              "    .dataframe tbody tr th:only-of-type {\n",
              "        vertical-align: middle;\n",
              "    }\n",
              "\n",
              "    .dataframe tbody tr th {\n",
              "        vertical-align: top;\n",
              "    }\n",
              "\n",
              "    .dataframe thead th {\n",
              "        text-align: right;\n",
              "    }\n",
              "</style>\n",
              "<table border=\"1\" class=\"dataframe\">\n",
              "  <thead>\n",
              "    <tr style=\"text-align: right;\">\n",
              "      <th></th>\n",
              "      <th>x</th>\n",
              "      <th>y</th>\n",
              "      <th>clusters</th>\n",
              "    </tr>\n",
              "  </thead>\n",
              "  <tbody>\n",
              "    <tr>\n",
              "      <th>55</th>\n",
              "      <td>1.390590</td>\n",
              "      <td>-8.769178</td>\n",
              "      <td>0</td>\n",
              "    </tr>\n",
              "    <tr>\n",
              "      <th>199</th>\n",
              "      <td>-0.339587</td>\n",
              "      <td>-8.344952</td>\n",
              "      <td>0</td>\n",
              "    </tr>\n",
              "    <tr>\n",
              "      <th>115</th>\n",
              "      <td>-4.876902</td>\n",
              "      <td>-6.516695</td>\n",
              "      <td>0</td>\n",
              "    </tr>\n",
              "    <tr>\n",
              "      <th>154</th>\n",
              "      <td>-4.353718</td>\n",
              "      <td>-9.175721</td>\n",
              "      <td>0</td>\n",
              "    </tr>\n",
              "    <tr>\n",
              "      <th>53</th>\n",
              "      <td>-4.103054</td>\n",
              "      <td>4.058929</td>\n",
              "      <td>1</td>\n",
              "    </tr>\n",
              "    <tr>\n",
              "      <th>175</th>\n",
              "      <td>-2.216288</td>\n",
              "      <td>-7.172240</td>\n",
              "      <td>0</td>\n",
              "    </tr>\n",
              "    <tr>\n",
              "      <th>33</th>\n",
              "      <td>6.841547</td>\n",
              "      <td>2.625421</td>\n",
              "      <td>2</td>\n",
              "    </tr>\n",
              "    <tr>\n",
              "      <th>81</th>\n",
              "      <td>-4.417031</td>\n",
              "      <td>-6.245594</td>\n",
              "      <td>0</td>\n",
              "    </tr>\n",
              "    <tr>\n",
              "      <th>102</th>\n",
              "      <td>-9.226214</td>\n",
              "      <td>-5.391421</td>\n",
              "      <td>3</td>\n",
              "    </tr>\n",
              "    <tr>\n",
              "      <th>20</th>\n",
              "      <td>-7.966105</td>\n",
              "      <td>-3.149976</td>\n",
              "      <td>3</td>\n",
              "    </tr>\n",
              "    <tr>\n",
              "      <th>118</th>\n",
              "      <td>7.189418</td>\n",
              "      <td>4.430709</td>\n",
              "      <td>2</td>\n",
              "    </tr>\n",
              "    <tr>\n",
              "      <th>159</th>\n",
              "      <td>-9.473320</td>\n",
              "      <td>-2.967078</td>\n",
              "      <td>3</td>\n",
              "    </tr>\n",
              "    <tr>\n",
              "      <th>57</th>\n",
              "      <td>-5.110099</td>\n",
              "      <td>3.411635</td>\n",
              "      <td>1</td>\n",
              "    </tr>\n",
              "    <tr>\n",
              "      <th>76</th>\n",
              "      <td>-4.803119</td>\n",
              "      <td>-7.539551</td>\n",
              "      <td>0</td>\n",
              "    </tr>\n",
              "    <tr>\n",
              "      <th>161</th>\n",
              "      <td>-3.211183</td>\n",
              "      <td>-8.521057</td>\n",
              "      <td>0</td>\n",
              "    </tr>\n",
              "  </tbody>\n",
              "</table>\n",
              "</div>"
            ],
            "text/plain": [
              "            x         y  clusters\n",
              "55   1.390590 -8.769178         0\n",
              "199 -0.339587 -8.344952         0\n",
              "115 -4.876902 -6.516695         0\n",
              "154 -4.353718 -9.175721         0\n",
              "53  -4.103054  4.058929         1\n",
              "175 -2.216288 -7.172240         0\n",
              "33   6.841547  2.625421         2\n",
              "81  -4.417031 -6.245594         0\n",
              "102 -9.226214 -5.391421         3\n",
              "20  -7.966105 -3.149976         3\n",
              "118  7.189418  4.430709         2\n",
              "159 -9.473320 -2.967078         3\n",
              "57  -5.110099  3.411635         1\n",
              "76  -4.803119 -7.539551         0\n",
              "161 -3.211183 -8.521057         0"
            ]
          },
          "metadata": {
            "tags": []
          },
          "execution_count": 33
        }
      ]
    },
    {
      "metadata": {
        "id": "PEFeN48n72ue",
        "colab_type": "code",
        "colab": {
          "base_uri": "https://localhost:8080/",
          "height": 87
        },
        "outputId": "934a03c7-f738-43fd-fd19-38212e2dec42"
      },
      "cell_type": "code",
      "source": [
        "# Getting centroids colored up and ready for their debut on a scatter plot\n",
        "centroids = []\n",
        "\n",
        "colors = ['k','b','c','y']\n",
        "\n",
        "for i in range (0,4):\n",
        "  clt = (final[final['clusters']==i].mean()[0], final[final['clusters']==i]\n",
        "         .mean()[1],colors[i])\n",
        "  centroids.append(clt)\n",
        "\n",
        "centroids"
      ],
      "execution_count": 40,
      "outputs": [
        {
          "output_type": "execute_result",
          "data": {
            "text/plain": [
              "[(-2.733593047683386, -8.204353041119228, 'k'),\n",
              " (-3.597406793888751, 4.133440993412572, 'b'),\n",
              " (6.249793180031626, 3.844571826521382, 'c'),\n",
              " (-8.366529866885651, -3.612380833929795, 'y')]"
            ]
          },
          "metadata": {
            "tags": []
          },
          "execution_count": 40
        }
      ]
    },
    {
      "metadata": {
        "id": "ndE5wxwV8mQ7",
        "colab_type": "code",
        "colab": {
          "base_uri": "https://localhost:8080/",
          "height": 287
        },
        "outputId": "78ca0587-4382-43e8-d730-7b7063f3b44b"
      },
      "cell_type": "code",
      "source": [
        "# Scattering all those centroids\n",
        "cents = plt.cm.get_cmap('Set2')\n",
        "\n",
        "plt.scatter(final['x'],final['y'],c=final['clusters'], cmap=cents)"
      ],
      "execution_count": 43,
      "outputs": [
        {
          "output_type": "execute_result",
          "data": {
            "text/plain": [
              "<matplotlib.collections.PathCollection at 0x7fb2de125748>"
            ]
          },
          "metadata": {
            "tags": []
          },
          "execution_count": 43
        },
        {
          "output_type": "display_data",
          "data": {
            "image/png": "[encoded data removed]",
            "text/plain": [
              "<Figure size 432x288 with 1 Axes>"
            ]
          },
          "metadata": {
            "tags": []
          }
        }
      ]
    },
    {
      "metadata": {
        "id": "ipw8LIPK7MBx",
        "colab_type": "code",
        "colab": {}
      },
      "cell_type": "code",
      "source": [
        ""
      ],
      "execution_count": 0,
      "outputs": []
    }
  ]
}